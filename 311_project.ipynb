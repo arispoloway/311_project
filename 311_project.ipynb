{
 "cells": [
  {
   "cell_type": "code",
   "execution_count": 1,
   "metadata": {},
   "outputs": [],
   "source": [
    "%matplotlib inline\n",
    "import csv\n",
    "import networkx as nx\n",
    "from networkx.algorithms import bipartite\n",
    "from collections import defaultdict\n",
    "from mpl_toolkits.basemap import Basemap\n",
    "import matplotlib.pyplot as plt"
   ]
  },
  {
   "cell_type": "code",
   "execution_count": 2,
   "metadata": {},
   "outputs": [],
   "source": [
    "DATA_DIR = \"./data/\"\n",
    "CASES_2010_2014_CSV = \"CRM Cases 2010_2014 Unrestricted.csv\"\n",
    "CASES_2015_2019_CSV = \"CRM Cases 2015_2019 Unrestricted.csv\"\n",
    "ECOMETRICS_VERTICAL_CSV = \"CRM CBG Ecometrics Vertical.csv\"\n",
    "CASE_TYPES_CSV = \"CRM Case Types.csv\"\n",
    "SHAPEFILE = \"./Block+Groups+2010+BARI/Census Block Groups\""
   ]
  },
  {
   "cell_type": "code",
   "execution_count": 3,
   "metadata": {},
   "outputs": [],
   "source": [
    "G = nx.Graph()\n",
    "\n",
    "weights = defaultdict(lambda: defaultdict(int))\n",
    "for filename in [CASES_2015_2019_CSV, CASES_2010_2014_CSV]:\n",
    "    with open(DATA_DIR + filename, 'r') as f:\n",
    "        c = csv.DictReader(f, delimiter='\\t')\n",
    "        count = 0\n",
    "        for row in c:\n",
    "            count += 1\n",
    "            open_dt = row.get('OPEN_DT')\n",
    "            close_dt = row.get('CLOSED_DT')\n",
    "            reason = row.get('REASON')\n",
    "            bg = row.get('BG_ID_10')\n",
    "            if \"NA\" in (reason, bg):\n",
    "                continue\n",
    "            weights[reason][bg] += 1\n",
    "            \n",
    "for reason in weights:\n",
    "    G.add_node(reason, bipartite='reason')\n",
    "    for bg in weights[reason]:\n",
    "        G.add_node(bg, bipartite='bg')\n",
    "        G.add_edge(reason, bg, weight=weights[reason][bg])\n",
    "        "
   ]
  },
  {
   "cell_type": "code",
   "execution_count": 4,
   "metadata": {},
   "outputs": [],
   "source": [
    "def draw_bipartite(G):\n",
    "    X, Y = bipartite.sets(G)\n",
    "    pos = dict()\n",
    "    pos.update( (n, (1, i)) for i, n in enumerate(X) ) # put nodes from X at x=1\n",
    "    pos.update( (n, (2, i)) for i, n in enumerate(Y) ) \n",
    "    nx.draw(G, pos=pos)\n",
    "    plt.show()\n"
   ]
  },
  {
   "cell_type": "code",
   "execution_count": 5,
   "metadata": {},
   "outputs": [],
   "source": [
    "def setup_map(shapefile, name, scale):\n",
    "    plt.figure(figsize=(12*scale,6*scale))\n",
    "    m = Basemap(projection='merc', llcrnrlat=42.22, urcrnrlat=42.42,\n",
    "                   llcrnrlon=-71.2, urcrnrlon=-70.98, resolution='h')\n",
    "    m.readshapefile(shapefile, name, linewidth=0.7)\n",
    "    m.drawcoastlines()\n",
    "    m.drawstates()\n",
    "    m.drawmapboundary(fill_color='aqua')\n",
    "    m.fillcontinents(color='coral',lake_color='aqua')\n",
    "    return m\n",
    "    \n",
    "\n",
    "#m = setup_map(SHAPEFILE, \"CBGs\", 2)\n",
    "#try:\n",
    "   # m.plot()\n",
    "#except Exception as e:\n",
    "    #pass\n",
    "\n"
   ]
  },
  {
   "cell_type": "code",
   "execution_count": 6,
   "metadata": {},
   "outputs": [],
   "source": [
    "def export_graph(G, file, edge_filter=lambda x, y, z: True):\n",
    "    with open(file, \"w\") as f:\n",
    "        f.write(\"From;To;Weight\\n\")\n",
    "        for fr, to, d in G.edges(data=True):\n",
    "            if edge_filter(fr, to, d):\n",
    "                f.write(\"{0};{1};{2}\\n\".format(fr, to, d['weight']))\n",
    "    "
   ]
  },
  {
   "cell_type": "code",
   "execution_count": 7,
   "metadata": {},
   "outputs": [],
   "source": [
    "export_graph(G, \"test.txt\")"
   ]
  },
  {
   "cell_type": "code",
   "execution_count": null,
   "metadata": {},
   "outputs": [],
   "source": []
  }
 ],
 "metadata": {
  "kernelspec": {
   "display_name": "Python 3",
   "language": "python",
   "name": "python3"
  },
  "language_info": {
   "codemirror_mode": {
    "name": "ipython",
    "version": 3
   },
   "file_extension": ".py",
   "mimetype": "text/x-python",
   "name": "python",
   "nbconvert_exporter": "python",
   "pygments_lexer": "ipython3",
   "version": "3.5.2"
  }
 },
 "nbformat": 4,
 "nbformat_minor": 2
}
