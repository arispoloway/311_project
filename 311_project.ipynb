{
 "cells": [
  {
   "cell_type": "code",
   "execution_count": 1,
   "metadata": {},
   "outputs": [],
   "source": [
    "%matplotlib inline\n",
    "import csv\n",
    "import networkx as nx\n",
    "from collections import defaultdict\n",
    "\n",
    "DATA_DIR = \"./data/\"\n",
    "CASES_2010_2014_CSV = \"CRM Cases 2010_2014 Unrestricted.csv\"\n",
    "CASES_2015_2019_CSV = \"CRM Cases 2015_2019 Unrestricted.csv\"\n",
    "ECOMETRICS_VERTICAL_CSV = \"CRM CBG Ecometrics Vertical.csv\"\n",
    "CASE_TYPES_CSV = \"CRM Case Types.csv\"\n",
    "\n",
    "G = nx.Graph()\n",
    "\n",
    "weights = defaultdict(lambda: defaultdict(int))\n",
    "\n",
    "with open(DATA_DIR + CASES_2015_2019_CSV, 'r') as f:\n",
    "    c = csv.DictReader(f, delimiter='\\t')\n",
    "    count = 0\n",
    "    for row in c:\n",
    "        count += 1\n",
    "        open_dt = row.get('OPEN_DT')\n",
    "        close_dt = row.get('CLOSED_DT')\n",
    "        reason = row.get('REASON')\n",
    "        bg = row.get('BG_ID_10')\n",
    "        weights[reason][bg] += 1\n",
    "\n",
    "with open(DATA_DIR + CASES_2010_2014_CSV, 'r') as f:\n",
    "    c = csv.DictReader(f, delimiter='\\t')\n",
    "    count = 0\n",
    "    for row in c:\n",
    "        count += 1\n",
    "        open_dt = row.get('OPEN_DT')\n",
    "        close_dt = row.get('CLOSED_DT')\n",
    "        reason = row.get('REASON')\n",
    "        bg = row.get('BG_ID_10')\n",
    "        weights[reason][bg] += 1\n",
    "\n",
    "for reason in weights:\n",
    "    G.add_node(reason, bipartite='reason')\n",
    "    for bg in weights[reason]:\n",
    "        G.add_node(bg, bipartite='bg')\n",
    "        G.add_edge(reason, bg, weight=weights[reason][bg])\n",
    "        "
   ]
  },
  {
   "cell_type": "code",
   "execution_count": 2,
   "metadata": {},
   "outputs": [
    {
     "data": {
      "text/plain": [
       "'558 block group nodes'"
      ]
     },
     "execution_count": 2,
     "metadata": {},
     "output_type": "execute_result"
    }
   ],
   "source": [
    "bg_nodes = [n[0] for n in G.node.items() if n[1]['bipartite']=='bg']\n",
    "\"{} block group nodes\".format(len(bg_nodes))"
   ]
  },
  {
   "cell_type": "code",
   "execution_count": 3,
   "metadata": {},
   "outputs": [
    {
     "data": {
      "text/plain": [
       "'63 reason nodes'"
      ]
     },
     "execution_count": 3,
     "metadata": {},
     "output_type": "execute_result"
    }
   ],
   "source": [
    "reason_nodes = [n[0] for n in G.node.items() if n[1]['bipartite']=='reason']\n",
    "\"{} reason nodes\".format(len(reason_nodes))"
   ]
  },
  {
   "cell_type": "code",
   "execution_count": null,
   "metadata": {},
   "outputs": [],
   "source": []
  }
 ],
 "metadata": {
  "kernelspec": {
   "display_name": "Python 3",
   "language": "python",
   "name": "python3"
  },
  "language_info": {
   "codemirror_mode": {
    "name": "ipython",
    "version": 3
   },
   "file_extension": ".py",
   "mimetype": "text/x-python",
   "name": "python",
   "nbconvert_exporter": "python",
   "pygments_lexer": "ipython3",
   "version": "3.5.2"
  }
 },
 "nbformat": 4,
 "nbformat_minor": 2
}
