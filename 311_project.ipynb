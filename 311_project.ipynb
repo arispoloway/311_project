{
 "cells": [
  {
   "cell_type": "code",
   "execution_count": 1,
   "metadata": {},
   "outputs": [],
   "source": [
    "%matplotlib inline\n",
    "import csv\n",
    "import networkx as nx\n",
    "from networkx.algorithms import bipartite\n",
    "from collections import defaultdict\n",
    "import matplotlib.pyplot as plt\n",
    "import numpy as np\n",
    "from operator import itemgetter"
   ]
  },
  {
   "cell_type": "code",
   "execution_count": null,
   "metadata": {},
   "outputs": [],
   "source": []
  },
  {
   "cell_type": "code",
   "execution_count": 2,
   "metadata": {},
   "outputs": [],
   "source": [
    "DATA_DIR = \"./data/\"\n",
    "CASES_2010_2014_CSV = \"CRM Cases 2010_2014 Unrestricted.csv\"\n",
    "CASES_2015_2019_CSV = \"CRM Cases 2015_2019 Unrestricted.csv\"\n",
    "ECOMETRICS_VERTICAL_CSV = \"CRM CBG Ecometrics Vertical.csv\"\n",
    "CASE_TYPES_CSV = \"CRM Case Types.csv\"\n",
    "SHAPEFILE = \"./Block+Groups+2010+BARI/Census Block Groups\"\n",
    "\n",
    "DEMOGRAPHICS = \"./CT_info.csv\""
   ]
  },
  {
   "cell_type": "code",
   "execution_count": 3,
   "metadata": {},
   "outputs": [],
   "source": [
    "weights = defaultdict(lambda: defaultdict(lambda: defaultdict(int)))\n",
    "for filename in [CASES_2015_2019_CSV, CASES_2010_2014_CSV]:\n",
    "    with open(DATA_DIR + filename, 'r') as f:\n",
    "        c = csv.DictReader(f, delimiter='\\t')\n",
    "        count = 0\n",
    "        for row in c:\n",
    "            count += 1\n",
    "            open_dt = row.get('OPEN_DT')\n",
    "            close_dt = row.get('CLOSED_DT')\n",
    "            reason = row.get('TYPE')\n",
    "            \n",
    "            #ignore all snow related requests\n",
    "            if \"snow\" in reason.lower():\n",
    "                continue\n",
    "            ct = row.get('CT_ID_10')\n",
    "            if \"NA\" in (reason, ct):\n",
    "                continue\n",
    "            weights[open_dt[:4]][ct][reason.lower()] += 1\n",
    "            \n",
    "ct_info = defaultdict(dict)\n",
    "with open(DEMOGRAPHICS, 'r') as f:\n",
    "    c = csv.DictReader(f, delimiter=',')\n",
    "    for row in c:\n",
    "        ct_info[row.get('GEOID10')]['TotalPop'] = row['POP100_']\n",
    "        ct_info[row.get('GEOID10')]['MedHouseIncome'] = row['MdHsInc']\n",
    "        ct_info[row.get('GEOID10')]['MedHomeVal'] = row['MedHmVl']\n",
    "\n",
    "        "
   ]
  },
  {
   "cell_type": "code",
   "execution_count": 4,
   "metadata": {},
   "outputs": [],
   "source": [
    "def get_nodes(G, **kwargs):\n",
    "    return [n for n in G.nodes if (all(G.nodes[n][key] == kwargs[key] for key in kwargs))]\n",
    "def get_frequencies(G, t):\n",
    "    return sorted(G.degree(get_nodes(G, bipartite=t), weight='weight'), key=lambda x: x[1], reverse=True)\n",
    "def most_frequent(frequencies, reasons, n):\n",
    "    return list(filter(lambda x: x[0] in reasons, frequencies))[:n]"
   ]
  },
  {
   "cell_type": "code",
   "execution_count": null,
   "metadata": {},
   "outputs": [],
   "source": []
  },
  {
   "cell_type": "code",
   "execution_count": 28,
   "metadata": {},
   "outputs": [],
   "source": [
    "def build_graphs_from_weights(weights):\n",
    "    l = defaultdict(lambda: nx.Graph())\n",
    "    for year in weights:\n",
    "        for ct in weights[year]:\n",
    "            total = sum([weights[year][ct][r] for r in weights[year][ct]])\n",
    "            if total == 0:\n",
    "                continue\n",
    "            l[year].add_node(ct, bipartite='ct')\n",
    "            for reason in weights[year][ct]:\n",
    "                l[year].add_node(reason, bipartite='reason')\n",
    "                l[year].add_edge(reason, ct, weight=(weights[year][ct][reason]))\n",
    "    return l\n",
    "    \n",
    "Gs = build_graphs_from_weights(weights)\n",
    "\n",
    "def export_bipartite(G):\n",
    "    ct_count = sum([1 for n in G.nodes if G.nodes[n]['bipartite'] == 'ct'])\n",
    "    ordering = sorted(G.nodes)\n",
    "    mat = nx.to_numpy_matrix(G, ordering, weight='weight')\n",
    "    return mat[ct_count:len(ordering), 0:ct_count], ordering[:ct_count], ordering[ct_count:]\n",
    "\n",
    "adjs = {year: export_bipartite(Gs[year]) for year in Gs}\n",
    "\n",
    "for year, (adj, _, _) in adjs.items():\n",
    "    np.savetxt(\"./graphs/\" + year + \".txt\", adj, fmt=\"%f\") # TODO change maybe - this always integer"
   ]
  },
  {
   "cell_type": "code",
   "execution_count": 15,
   "metadata": {},
   "outputs": [],
   "source": []
  },
  {
   "cell_type": "code",
   "execution_count": 16,
   "metadata": {},
   "outputs": [],
   "source": []
  },
  {
   "cell_type": "code",
   "execution_count": 17,
   "metadata": {},
   "outputs": [],
   "source": []
  },
  {
   "cell_type": "code",
   "execution_count": 18,
   "metadata": {},
   "outputs": [],
   "source": []
  },
  {
   "cell_type": "code",
   "execution_count": 6,
   "metadata": {},
   "outputs": [],
   "source": [
    "            "
   ]
  },
  {
   "cell_type": "code",
   "execution_count": null,
   "metadata": {},
   "outputs": [],
   "source": []
  },
  {
   "cell_type": "code",
   "execution_count": 32,
   "metadata": {},
   "outputs": [
    {
     "name": "stdout",
     "output_type": "stream",
     "text": [
      "['abandoned building', 'abandoned vehicles', 'abandoned vehicles - private tow', 'alternate transportation', 'bed bugs', 'billing complaint', 'breathe easy', 'bus emergency', 'bus stop issues', 'bwsc general request', 'carbon monoxide', 'chronic dampness/mold', 'cross metering - sub-metering', 'electrical', 'fire hydrant', 'general school request', 'general transportation issues', 'heat - excessive, insufficient', 'heat/fuel assistance', 'highway maintenance', 'illegal auto body shop', 'illegal occupancy', 'illegal rooming house', 'illegal use', 'knockdown replacement', 'late bus issues', 'lead', 'maintenance - homeowner', 'maintenance complaint - residential', 'mechanical', 'mice infestation - residential', 'new sign, crosswalk or pavement marking', 'no utilities residential - electricity', 'no utilities residential - gas', 'no utilities residential - water', 'park maintenance requests', 'parking on front/back yards (illegal parking)', 'pest infestation - residential', 'pick up dead animal', 'poor conditions of property', 'poor ventilation', 'public works general request', 'sewage/septic back-up', 'space savers', 'squalid living conditions', 'trash on vacant lot', 'unsafe dangerous conditions', 'unsatisfactory living conditions', 'unsatisfactory utilities - electrical, plumbing', 'zoning']\n",
      "[('25025000100', '69818'), ('25025000503', '56522'), ('25025081200', '30819'), ('25025081400', '34107'), ('25025081500', '33967'), ('25025081800', '35084'), ('25025082000', '36685'), ('25025082100', '18045'), ('25025090100', '28362'), ('25025090200', '27045'), ('25025090300', '30794'), ('25025090400', '31031'), ('25025090600', '40950'), ('25025091300', '35938'), ('25025091400', '42647'), ('25025091500', '48678'), ('25025091600', '37154'), ('25025091700', '40078'), ('25025091800', '38371'), ('25025091900', '46397'), ('25025092000', '46576'), ('25025092101', '49559'), ('25025092300', '43729'), ('25025092400', '29048'), ('25025100100', '28279'), ('25025100200', '37203'), ('25025100300', '50292'), ('25025100500', '51938'), ('25025100603', '81324'), ('25025101101', '56903'), ('25025101102', '42949'), ('25025120500', '68413'), ('25025981502', '0')]\n",
      "42147.03125\n",
      "\n",
      "\n",
      "['abandoned bicycle', 'ada', 'big buildings resident complaint', 'bridge maintenance', 'bwsc pothole', 'cemetery maintenance request', 'contractors complaint', 'egress', 'empty litter basket', 'fire in food establishment', 'flooding residential/commercial', 'food alert - confirmed', 'food alert - unconfirmed', 'general comments for an employee', 'general lighting request', 'general request', 'general traffic engineering request', 'graffiti removal', 'illegal dumping', 'illegal vending', 'improper storage of trash (barrels)', 'install new lighting', 'item price missing', 'major system failure', 'mbta request', 'missing sign', 'no price on gas/wrong price', 'no utilities - food establishment - electricity', 'no utilities - food establishment - sewer', 'no utilities - food establishment - water', 'no-tow complaint confirmation', 'notification', 'overflowing or un-kept dumpster', 'park improvement requests', 'parking meter repairs', 'parks general request', 'pavement marking maintenance', 'phone bank service inquiry', 'private parking lot complaints', 'product short measure', 'pwd graffiti', 'rental unit delivery conditions', 'request for litter basket installation', 'request for pothole repair', 'requests for traffic signal studies or reviews', 'rodent activity', 'sidewalk cover / manhole', 'street light knock downs', 'street light outages', 'street light outages (internal)', 'student move-in issues', 'student overcrowding', 'traffic signal repair', 'transportation general request', 'unit pricing wrong/missing', 'unsanitary conditions - employees', 'unsanitary conditions - establishment', 'unsanitary conditions - food', 'upgrade existing lighting', 'utility call-in', 'valet parking problems', 'work hours-loud noise complaints', 'working beyond hours']\n",
      "[('25025000202', '66875'), ('25025000502', '51652'), ('25025000504', '48676'), ('25025000601', '58750'), ('25025000602', '25364'), ('25025000701', '49600'), ('25025000703', '32002'), ('25025000704', '50577'), ('25025000802', '36000'), ('25025000803', '44286'), ('25025010103', '30717'), ('25025010104', '57500'), ('25025010203', '22306'), ('25025010204', '31196'), ('25025010300', '40662'), ('25025010403', '28351'), ('25025010404', '19595'), ('25025010405', '19395'), ('25025010408', '63036'), ('25025010500', '44333'), ('25025010600', '97988'), ('25025010701', '101117'), ('25025010702', '121553'), ('25025010801', '118590'), ('25025010802', '118125'), ('25025020101', '107019'), ('25025020200', '75287'), ('25025020301', '116193'), ('25025020302', '84777'), ('25025020303', '79010'), ('25025030100', '86667'), ('25025030200', '81607'), ('25025030300', '112639'), ('25025030400', '86512'), ('25025030500', '101910'), ('25025040100', '142688'), ('25025040200', '37750'), ('25025040401', '79750'), ('25025040600', '123160'), ('25025040801', '59704'), ('25025050600', '67222'), ('25025060600', '122264'), ('25025060700', '19907'), ('25025061101', '14500'), ('25025070101', '83750'), ('25025070200', '21712'), ('25025070300', '101884'), ('25025070402', '21480'), ('25025070500', '101583'), ('25025070700', '102000'), ('25025070800', '71667'), ('25025070900', '47688'), ('25025071101', '53173'), ('25025071201', '50280'), ('25025080100', '30598'), ('25025080401', '31042'), ('25025080500', '23194'), ('25025080601', '16250'), ('25025080801', '22450'), ('25025080900', '50988'), ('25025081001', '20902'), ('25025081100', '41146'), ('25025081300', '18275'), ('25025090700', '65273'), ('25025120201', '50366'), ('25025120301', '68482'), ('25025980300', '0'), ('25025980700', '0'), ('25025981000', '0'), ('25025981100', '36979'), ('25025981201', '0'), ('25025981202', '0'), ('25025981300', '101875'), ('25025981700', '0'), ('25025981800', '197500')]\n",
      "63874.6231884058\n",
      "\n",
      "\n",
      "['base repair (internal)', 'building inspection request', 'catchbasin', 'construction debris', 'contractor complaints', 'disability general request', 'exceeding terms of permit', 'municipal parking lot complaints', 'new sign  crosswalk or pavement marking', 'overcrowding', 'parking enforcement', 'pigeon infestation', 'protection of adjoining property', 'requests for street cleaning', 'school facility issues', 'sign repair', 'utility casting repair', 'watermain break']\n",
      "[('25025050101', '41023'), ('25025050200', '54652'), ('25025050300', '15893'), ('25025050400', '52572'), ('25025050500', '48125'), ('25025050700', '55238'), ('25025050901', '57386'), ('25025051000', '49241'), ('25025051101', '57454'), ('25025051200', '63967'), ('25025060400', '100112'), ('25025060501', '104970'), ('25025060800', '101778'), ('25025061000', '22133'), ('25025061200', '117378'), ('25025090901', '27578'), ('25025091001', '74215'), ('25025091200', '64280')]\n",
      "61555.27777777778\n",
      "\n",
      "\n",
      "['big buildings enforcement', 'big buildings online request', 'downed wire', 'general comments for a program or policy', 'illegal posting of signs', 'missed trash/recycling/yard waste/bulk item', 'mosquitoes (west nile)', 'new tree requests', 'no utilities - food establishment - flood', 'occupying w/out a valid co/ci', 'park safety notifications', 'parks lighting issues', 'plumbing', 'pothole repair (internal)', 'rat bite', 'recycling cart inquiry', 'recycling cart return', 'request for recycling cart', 'roadway flooding', 'roadway repair', 'scanning overcharge', 'schedule a bulk item pickup', 'schedule a bulk item pickup ss', 'short measure - gas', 'sidewalk repair', 'sidewalk repair (internal)', 'sidewalk repair (make safe)', 'sticker request', 'student missing', 'tree emergencies', 'tree in park', 'tree maintenance requests', 'water in gas - high priority', 'work w/out permit', 'yardwaste asian longhorned beetle affected area']\n",
      "[('25025000201', '80932'), ('25025000301', '86773'), ('25025000302', '72526'), ('25025000401', '47619'), ('25025000402', '60214'), ('25025040300', '102171'), ('25025060101', '105606'), ('25025060200', '110298'), ('25025060301', '92898'), ('25025070600', '129884'), ('25025080300', '31625'), ('25025081700', '30563'), ('25025081900', '20848'), ('25025091100', '67150'), ('25025092200', '67042'), ('25025100400', '68448'), ('25025100601', '62583'), ('25025100700', '71341'), ('25025100800', '73868'), ('25025100900', '63271'), ('25025101001', '40764'), ('25025101002', '37588'), ('25025110103', '67027'), ('25025110201', '44449'), ('25025110301', '77500'), ('25025110401', '58864'), ('25025110403', '77243'), ('25025110501', '78333'), ('25025110502', '80750'), ('25025110601', '85735'), ('25025110607', '105319'), ('25025120103', '131484'), ('25025120104', '85321'), ('25025120105', '137750'), ('25025120400', '84007'), ('25025120600', '99911'), ('25025120700', '85788'), ('25025130100', '81563'), ('25025130200', '103438'), ('25025130300', '114697'), ('25025130402', '66005'), ('25025130404', '62208'), ('25025130406', '46695'), ('25025140102', '71250'), ('25025140105', '76285'), ('25025140106', '33185'), ('25025140107', '65000'), ('25025140201', '77832'), ('25025140202', '67359'), ('25025140300', '54505'), ('25025140400', '68042'), ('25025981600', '0')]\n",
      "74736.41176470589\n",
      "\n",
      "\n"
     ]
    }
   ],
   "source": [
    "# After r done processing\n",
    "def get_communities(year):\n",
    "    year = str(year)\n",
    "    with open(\"./r_processing/{}_reasons.txt\".format(year), \"r\") as r, \\\n",
    "            open(\"./r_processing/{}_cts.txt\".format(year), \"r\") as c:\n",
    "        r_groups = r.read().replace(\"\\n\", \"\").split(\" \")\n",
    "        c_groups = c.read().replace(\"\\n\", \"\").split(\" \")\n",
    "        _, cts, reasons = export_bipartite(Gs[year])\n",
    "        \n",
    "        coms = defaultdict(lambda: ([], [], []))\n",
    "        \n",
    "        for group, reason in zip(r_groups, reasons):\n",
    "            coms[group][0].append(reason)\n",
    "            \n",
    "        for group, ct in zip(c_groups, cts):\n",
    "            coms[group][1].append(ct)\n",
    "            coms[group][2].append(ct_info.get(ct).get(\"MedHouseIncome\"))\n",
    "    \n",
    "    return sorted(coms.values(), key=lambda x: sum(map(int, x[2])) / len(x[2]))\n",
    "\n",
    "def print_communities(year):\n",
    "    coms = get_communities(year)\n",
    "    for c in coms:\n",
    "        print(c[0])\n",
    "        print(list(zip(*c[1:])))\n",
    "        ints = list(filter(lambda x: x != 0, map(int, c[2])))\n",
    "        if ints != []:\n",
    "            print(sum(ints) / len(ints))\n",
    "        print(\"\\n\")\n",
    "\n",
    "print_communities(2012)"
   ]
  },
  {
   "cell_type": "code",
   "execution_count": null,
   "metadata": {},
   "outputs": [],
   "source": []
  },
  {
   "cell_type": "code",
   "execution_count": 37,
   "metadata": {},
   "outputs": [],
   "source": []
  },
  {
   "cell_type": "code",
   "execution_count": 35,
   "metadata": {},
   "outputs": [],
   "source": []
  },
  {
   "cell_type": "code",
   "execution_count": null,
   "metadata": {},
   "outputs": [],
   "source": []
  },
  {
   "cell_type": "code",
   "execution_count": null,
   "metadata": {},
   "outputs": [],
   "source": []
  },
  {
   "cell_type": "code",
   "execution_count": null,
   "metadata": {},
   "outputs": [],
   "source": [
    "\n",
    "#get_frequencies(Gs['2011'], 'reason')"
   ]
  },
  {
   "cell_type": "code",
   "execution_count": null,
   "metadata": {},
   "outputs": [],
   "source": [
    "\n",
    "#get_frequencies(Gs['2011'], 'ct')"
   ]
  },
  {
   "cell_type": "code",
   "execution_count": null,
   "metadata": {},
   "outputs": [],
   "source": []
  },
  {
   "cell_type": "code",
   "execution_count": null,
   "metadata": {},
   "outputs": [],
   "source": []
  },
  {
   "cell_type": "code",
   "execution_count": null,
   "metadata": {},
   "outputs": [],
   "source": []
  },
  {
   "cell_type": "code",
   "execution_count": null,
   "metadata": {},
   "outputs": [],
   "source": []
  },
  {
   "cell_type": "code",
   "execution_count": null,
   "metadata": {},
   "outputs": [],
   "source": [
    "#print(get_nodes(Gs['2014'], bipartite='reason'))"
   ]
  },
  {
   "cell_type": "code",
   "execution_count": null,
   "metadata": {},
   "outputs": [],
   "source": [
    "export_graph(projected['2014'], '2014')"
   ]
  },
  {
   "cell_type": "code",
   "execution_count": null,
   "metadata": {},
   "outputs": [],
   "source": [
    "def export_graph(G, file):\n",
    "    nx.write_weighted_edgelist(G, file, delimiter=\";\")\n",
    "        \n",
    "#export_graph(bipartite.weighted_projected_graph(G, reason_nodes), \"test.txt\")"
   ]
  },
  {
   "cell_type": "code",
   "execution_count": null,
   "metadata": {},
   "outputs": [],
   "source": []
  },
  {
   "cell_type": "code",
   "execution_count": null,
   "metadata": {},
   "outputs": [],
   "source": [
    "\n"
   ]
  },
  {
   "cell_type": "code",
   "execution_count": null,
   "metadata": {},
   "outputs": [],
   "source": [
    "    "
   ]
  },
  {
   "cell_type": "code",
   "execution_count": null,
   "metadata": {},
   "outputs": [],
   "source": [
    "\n",
    "for year, G in Gs.items():\n",
    "    with open(\"./rich_poor_proportions/{}_rich_poor_proportions.csv\".format(year), \"w\") as f:\n",
    "        c = csv.writer(f)\n",
    "        c.writerow([\"CT\", \"RICH_CALLS\", \"POOR_CALLS\", \"OTHER_CALLS\", \"CT_TYPE\"])\n",
    "\n",
    "        communities = get_communities(year)\n",
    "        poor_types = set(communities[0][0])\n",
    "        rich_types = set(communities[-1][0])\n",
    "        poor_cts = set(communities[0][1])\n",
    "        rich_cts = set(communities[-1][1])\n",
    "\n",
    "        for ct in weights[year]:\n",
    "            total = sum([weights[year][ct][r] for r in weights[year][ct]])\n",
    "            if total == 0:\n",
    "                continue\n",
    "            rich = 0\n",
    "            poor = 0\n",
    "            other = 0\n",
    "\n",
    "            for reason in weights[year][ct]:\n",
    "                if reason in poor_types:\n",
    "                    poor += weights[year][ct][reason]\n",
    "                elif reason in rich_types:\n",
    "                    rich += weights[year][ct][reason]\n",
    "                else:\n",
    "                    other += weights[year][ct][reason]\n",
    "\n",
    "            rich = float(rich) / float(total)\n",
    "            poor = float(poor) / float(total)\n",
    "            other = float(other) / float(total)\n",
    "            t = \"\"\n",
    "            if ct in poor_cts:\n",
    "                t = \"POOR\"\n",
    "            elif ct in rich_cts:\n",
    "                t = \"RICH\"\n",
    "            else:\n",
    "                t = \"OTHER\"\n",
    "            \n",
    "            c.writerow([ct, rich, poor, other, t])\n"
   ]
  },
  {
   "cell_type": "code",
   "execution_count": 30,
   "metadata": {},
   "outputs": [],
   "source": [
    "with open(\"normalized_call_data.csv\", \"w\") as f:\n",
    "    c = csv.writer(f, delimiter=\",\")\n",
    "    c.writerow(['YEAR', 'CT', 'REASON', 'VALUE'])\n",
    "    for year in weights:\n",
    "        for ct in weights[year]:\n",
    "            total = sum([weights[year][ct][r] for r in weights[year][ct] if weights[year][ct][r] != 0])\n",
    "            if total == 0:\n",
    "                continue\n",
    "            for reason in weights[year][ct]:\n",
    "                c.writerow([year, ct, reason, float(weights[year][ct][reason]) / float(total)])\n",
    "                "
   ]
  },
  {
   "cell_type": "code",
   "execution_count": 33,
   "metadata": {},
   "outputs": [],
   "source": [
    "for filename in [\"./reformatted/2010_2014\", \"./reformatted/2015_2018\"]:\n",
    "    with open(filename + \".csv\", 'r') as f:\n",
    "        with open(filename + \"_reformat.csv\", 'w') as o:\n",
    "            c = csv.reader(f, delimiter='\\t')\n",
    "            out = csv.writer(o, delimiter=',')\n",
    "            \n",
    "            count = 0\n",
    "            for row in c:\n",
    "                if count == 0:\n",
    "                    out.writerow(row)\n",
    "                    count += 1\n",
    "                else:\n",
    "                    r = list(row)\n",
    "                    r[1] = r[1][:4]\n",
    "                    \n",
    "                    #Ignore locations with no location\n",
    "                    if r[9] != \"NA\":\n",
    "                        out.writerow(r)\n",
    "                    else:\n",
    "                        print(\"sldkjf\")\n",
    "                "
   ]
  },
  {
   "cell_type": "code",
   "execution_count": null,
   "metadata": {},
   "outputs": [],
   "source": [
    "with open(\"output.csv\", \"w\") as f:\n",
    "    out = csv.DictWriter(f, [\"CT\", \"Type\", \"Calls\", \"TotalPop\", \"MedHouseIncome\", \"MedHomeVal\", \"CallsPerPop\", \"Year\"])\n",
    "    out.writeheader()\n",
    "    for year in weights:\n",
    "        for ct in weights[year]:\n",
    "            for reason in weights[year][ct]:\n",
    "                count = weights[year][ct][reason]\n",
    "                \n",
    "                if ct not in ct_info:\n",
    "                    continue\n",
    "                \n",
    "                info = ct_info[ct]\n",
    "                if int(info['TotalPop']) == 0:\n",
    "                    continue\n",
    "                    \n",
    "                out.writerow({\n",
    "                    \"CT\": ct,\n",
    "                    \"Type\": reason,\n",
    "                    \"Calls\": count,\n",
    "                    \"TotalPop\": info[\"TotalPop\"],\n",
    "                    \"MedHouseIncome\": info[\"MedHouseIncome\"],\n",
    "                    \"MedHomeVal\": info[\"MedHomeVal\"],\n",
    "                    \"CallsPerPop\": float(count) / float(info[\"TotalPop\"]),\n",
    "                    \"Year\": year\n",
    "                })\n",
    "                \n",
    "    \n",
    "    "
   ]
  },
  {
   "cell_type": "code",
   "execution_count": null,
   "metadata": {},
   "outputs": [],
   "source": []
  }
 ],
 "metadata": {
  "kernelspec": {
   "display_name": "Python 3",
   "language": "python",
   "name": "python3"
  },
  "language_info": {
   "codemirror_mode": {
    "name": "ipython",
    "version": 3
   },
   "file_extension": ".py",
   "mimetype": "text/x-python",
   "name": "python",
   "nbconvert_exporter": "python",
   "pygments_lexer": "ipython3",
   "version": "3.5.2"
  }
 },
 "nbformat": 4,
 "nbformat_minor": 2
}
