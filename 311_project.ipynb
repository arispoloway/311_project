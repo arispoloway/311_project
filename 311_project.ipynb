{
 "cells": [
  {
   "cell_type": "code",
   "execution_count": 2,
   "metadata": {
    "collapsed": true
   },
   "outputs": [],
   "source": [
    "%matplotlib inline\n",
    "import csv\n",
    "import networkx as nx\n",
    "from networkx.algorithms import bipartite\n",
    "from collections import defaultdict\n",
    "import matplotlib.pyplot as plt"
   ]
  },
  {
   "cell_type": "code",
   "execution_count": 3,
   "metadata": {
    "collapsed": true
   },
   "outputs": [],
   "source": [
    "DATA_DIR = \"./data/\"\n",
    "CASES_2010_2014_CSV = \"CRM Cases 2010_2014 Unrestricted.csv\"\n",
    "CASES_2015_2019_CSV = \"CRM Cases 2015_2019 Unrestricted.csv\"\n",
    "ECOMETRICS_VERTICAL_CSV = \"CRM CBG Ecometrics Vertical.csv\"\n",
    "CASE_TYPES_CSV = \"CRM Case Types.csv\"\n",
    "SHAPEFILE = \"./Block+Groups+2010+BARI/Census Block Groups\""
   ]
  },
  {
   "cell_type": "code",
   "execution_count": 8,
   "metadata": {
    "collapsed": true
   },
   "outputs": [],
   "source": [
    "weights = defaultdict(lambda: defaultdict(lambda: defaultdict(int)))\n",
    "for filename in [CASES_2015_2019_CSV, CASES_2010_2014_CSV]:\n",
    "    with open(DATA_DIR + filename, 'r') as f:\n",
    "        c = csv.DictReader(f, delimiter='\\t')\n",
    "        count = 0\n",
    "        for row in c:\n",
    "            count += 1\n",
    "            open_dt = row.get('OPEN_DT')\n",
    "            close_dt = row.get('CLOSED_DT')\n",
    "            reason = row.get('TYPE')\n",
    "            bg = row.get('BG_ID_10')\n",
    "            if \"NA\" in (reason, bg):\n",
    "                continue\n",
    "            weights[open_dt[:4]][reason.lower()][bg] += 1\n",
    "        "
   ]
  },
  {
   "cell_type": "code",
   "execution_count": 13,
   "metadata": {
    "collapsed": false
   },
   "outputs": [
    {
     "data": {
      "text/plain": [
       "defaultdict(<function __main__.<lambda>>,\n",
       "            {'2010': <networkx.classes.graph.Graph at 0x86bb410>,\n",
       "             '2011': <networkx.classes.graph.Graph at 0x867c410>,\n",
       "             '2012': <networkx.classes.graph.Graph at 0x86bb3b0>,\n",
       "             '2013': <networkx.classes.graph.Graph at 0x86bb4d0>,\n",
       "             '2014': <networkx.classes.graph.Graph at 0x8686b90>,\n",
       "             '2015': <networkx.classes.graph.Graph at 0xaeacc10>,\n",
       "             '2016': <networkx.classes.graph.Graph at 0x8686b70>})"
      ]
     },
     "execution_count": 13,
     "metadata": {},
     "output_type": "execute_result"
    }
   ],
   "source": [
    "Gs = defaultdict(lambda: nx.Graph())\n",
    "for year in weights:\n",
    "    for reason in weights[year]:\n",
    "        Gs[year].add_node(reason, bipartite='reason')\n",
    "        for bg in weights[year][reason]:\n",
    "            Gs[year].add_node(bg, bipartite='bg')\n",
    "            Gs[year].add_edge(reason, bg, weight=weights[year][reason][bg])\n",
    "Gs"
   ]
  },
  {
   "cell_type": "code",
   "execution_count": 10,
   "metadata": {
    "collapsed": true
   },
   "outputs": [],
   "source": [
    "def export_graph(G, file):\n",
    "    nx.write_weighted_edgelist(G, file, delimiter=\";\")\n",
    "        \n",
    "#export_graph(bipartite.weighted_projected_graph(G, reason_nodes), \"test.txt\")"
   ]
  },
  {
   "cell_type": "code",
   "execution_count": 13,
   "metadata": {
    "collapsed": true
   },
   "outputs": [],
   "source": [
    "def draw_bipartite(G):\n",
    "    X, Y = bipartite.sets(G)\n",
    "    pos = dict()\n",
    "    pos.update( (n, (1, i)) for i, n in enumerate(X) ) # put nodes from X at x=1\n",
    "    pos.update( (n, (2, i)) for i, n in enumerate(Y) ) \n",
    "    nx.draw(G, pos=pos)\n",
    "    plt.show()\n"
   ]
  },
  {
   "cell_type": "code",
   "execution_count": 1,
   "metadata": {
    "collapsed": true
   },
   "outputs": [],
   "source": [
    "def setup_map(shapefile, name, scale):\n",
    "    from mpl_toolkits.basemap import Basemap\n",
    "    plt.figure(figsize=(12*scale,6*scale))\n",
    "    m = Basemap(projection='merc', llcrnrlat=42.22, urcrnrlat=42.42,\n",
    "                   llcrnrlon=-71.2, urcrnrlon=-70.98, resolution='h')\n",
    "    m.readshapefile(shapefile, name, linewidth=0.7)\n",
    "    m.drawcoastlines()\n",
    "    m.drawstates()\n",
    "    m.drawmapboundary(fill_color='aqua')\n",
    "    m.fillcontinents(color='coral',lake_color='aqua')\n",
    "    return m\n",
    "    \n",
    "\n",
    "#m = setup_map(SHAPEFILE, \"CBGs\", 2)\n",
    "#try:\n",
    "   # m.plot()\n",
    "#except Exception as e:\n",
    "    #pass\n",
    "\n"
   ]
  },
  {
   "cell_type": "code",
   "execution_count": null,
   "metadata": {
    "collapsed": true
   },
   "outputs": [],
   "source": [
    "    "
   ]
  },
  {
   "cell_type": "code",
   "execution_count": 7,
   "metadata": {
    "collapsed": true
   },
   "outputs": [],
   "source": []
  },
  {
   "cell_type": "code",
   "execution_count": 8,
   "metadata": {
    "collapsed": true
   },
   "outputs": [],
   "source": []
  },
  {
   "cell_type": "code",
   "execution_count": null,
   "metadata": {
    "collapsed": true
   },
   "outputs": [],
   "source": []
  },
  {
   "cell_type": "code",
   "execution_count": null,
   "metadata": {
    "collapsed": true
   },
   "outputs": [],
   "source": []
  },
  {
   "cell_type": "code",
   "execution_count": null,
   "metadata": {
    "collapsed": true
   },
   "outputs": [],
   "source": []
  }
 ],
 "metadata": {
  "kernelspec": {
   "display_name": "Python 2",
   "language": "python",
   "name": "python2"
  },
  "language_info": {
   "codemirror_mode": {
    "name": "ipython",
    "version": 2
   },
   "file_extension": ".py",
   "mimetype": "text/x-python",
   "name": "python",
   "nbconvert_exporter": "python",
   "pygments_lexer": "ipython2",
   "version": "2.7.13"
  }
 },
 "nbformat": 4,
 "nbformat_minor": 2
}
